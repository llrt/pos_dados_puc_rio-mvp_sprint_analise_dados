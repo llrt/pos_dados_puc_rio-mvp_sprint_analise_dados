{
  "cells": [
    {
      "cell_type": "markdown",
      "metadata": {
        "id": "cmYX3PLx58Jg"
      },
      "source": [
        "# MVP Análise de Dados e Boas Práticas\n",
        "\n",
        "**Nome:** Leandro Loriato\n",
        "\n",
        "**Matrícula:** 4052025000318\n",
        "\n",
        "**Dataset:** [Global AI Job Market & Salary Trends 2025](https://raw.githubusercontent.com/llrt/pos_dados_puc_rio-mvp_sprint_analise_dados/refs/heads/main/data/ai_job_dataset.csv)\n",
        "\n",
        "**Problema:** Regressão Supervisionada\n",
        "\n",
        "\n",
        "OBS geral: o notebook e respectivo código serão apresentados todos em português (pt-br), exceto pelo nome das colunas do dataset, que será mantido no original em inglês (en-us) para não gerar confusão ao leitor."
      ]
    },
    {
      "cell_type": "markdown",
      "metadata": {
        "id": "YW_JS-EEBFaR"
      },
      "source": [
        "# Descrição do Dataset e Problema Proposto\n",
        "\n",
        "O conjunto de dados utilizado neste problema é o *Global AI Job Market & Salary Trends 2025*, disponibilizado originalmente no [Kaggle](https://www.kaggle.com/datasets/bismasajjad/global-ai-job-market-and-salary-trends-2025) . O dataset contempla registros de vagas ao redor do mundo para trabalho com AI, juntamente com suas características e o respectivo salário, em USD e moeda local.\n",
        "\n",
        "O problema proposto é então, a partir das propriedades de uma dada vaga, prever qual o salário que estará disponível naquela vaga. Trata-se portanto de um problem de **Regressão**. Como temos um dataset que já possui amostras com respectivo salário devidamente preenchido, trata-se portanto de um problema de **Aprendizado Supervisionado**. Assim, temos então que se trata de um problema **Regressão Supervisionada**."
      ]
    },
    {
      "cell_type": "markdown",
      "metadata": {
        "id": "Gm6mOo5PBYwr"
      },
      "source": [
        "## Atributos do Dataset\n",
        "\n",
        "O dataset contém 15000 instâncias, contendo os seguintes atributos (features):\n",
        "\n",
        "- *job_id*: id único que identifica aquela vaga - não é relevante para a análise, vamos descartar\n",
        "- *job_title* (variável categórica nominal): título daquela vaga (talvez requeira algum processamento/padronização)\n",
        "- *experience_level* (variável categórica ordinal): nível de senioridade daquela vaga (*EN* (entry-level) < *MI* (mid-level) < *SE* (senior-level) < *EX* (executive level) )\n",
        "- *employment_type* (variável categórica nominal): tipo de emprego (*FT* (full-time), *PT* (part-time), *CT* (contract), *FL* (freelance) )\n",
        "- *company_name* (variável categórica nominal): nome da empresa daquela vaga (talvez requeira algum processamento/padronização)\n",
        "- *company_location* (variável categórica nominal): país daquela vaga\n",
        "- *company_size* (variável categórica ordinal): tamanho da empresa daquela vaga (*S* (small-sized company, < 50 empregados) < *M* (medium-sized company, 50-250 empregados) < *L* (large-sized company, > 250 empregados ))\n",
        "- *employee_residence* (variável categórica nominal): país do empregado para a qual a vaga foi proposta\n",
        "- *remote_ratio* (variável categórica ordinal): tipo de trabalho, em % remoto (*0* (trabalho presencial) < *50* (remoto parcial, híbrido) < *100* (remoto full))\n",
        "- *required_skills* (variável categórica nominal): top 5 habilidades solicitadas para aquela vaga - como é um campo texto livre e separado por vírgulas, vai requerer algum processamento/padronização\n",
        "- *education_required* (variável categórica ordinal): nível de educação mínimo requerido para aquela vaga (*Associate* (graduação incompleta) < *Bachelor* (graduação completa) < Master (mestrado) < PhD (doutorado) )\n",
        "- *years_experience* (variável inteira): número de anos de experiência requeridos para aquela vaga\n",
        "- *industry* (variável categórica nominal): setor da empresa daquela vaga\n",
        "- *posting_date* (variável temporal): data em que vaga foi proposta\n",
        "- *application_deadline* (variável temporal): data limite para aplicar-se na vaga\n",
        "- *job_description_length* (variável inteira): tamanho em caracteres da descrição da vaga\n",
        "- *benefits_score* (variável contínua): score de classificação dos benefícios ofertados na vaga (de 1.0 a 10.0)\n",
        "- *salary_currency* (variável contínua): salário da vaga, em base mensal e na moeda local do país da vaga\n",
        "\n",
        "Além destas, temos a seguinte variável alvo (target):\n",
        "- *salary_usd* (variável contínua): salário da vaga, em base anual e em dólares americanos (USD)"
      ]
    }
  ],
  "metadata": {
    "colab": {
      "provenance": [],
      "toc_visible": true
    },
    "kernelspec": {
      "display_name": "Python 3",
      "name": "python3"
    },
    "language_info": {
      "name": "python"
    }
  },
  "nbformat": 4,
  "nbformat_minor": 0
}
